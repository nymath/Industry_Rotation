{
 "cells": [
  {
   "cell_type": "code",
   "execution_count": 1,
   "metadata": {},
   "outputs": [],
   "source": [
    "\n",
    "import pandas as pd\n",
    "import numpy as np\n",
    "import os\n",
    "import sys\n",
    "from trade import self_uqer"
   ]
  },
  {
   "cell_type": "code",
   "execution_count": 2,
   "metadata": {},
   "outputs": [
    {
     "data": {
      "text/plain": [
       "'000300.XSHG'"
      ]
     },
     "execution_count": 2,
     "metadata": {},
     "output_type": "execute_result"
    }
   ],
   "source": [
    "self_uqer.name2code_index['HS300']"
   ]
  },
  {
   "cell_type": "code",
   "execution_count": 3,
   "metadata": {},
   "outputs": [
    {
     "data": {
      "text/plain": [
       "2022-02-07    4634.0899\n",
       "2022-02-08    4608.7729\n",
       "2022-02-09    4652.0609\n",
       "2022-02-10    4639.8625\n",
       "2022-02-11    4601.3953\n",
       "2022-02-14    4551.6878\n",
       "2022-02-15    4600.1025\n",
       "2022-02-16    4617.9893\n",
       "2022-02-17    4629.1649\n",
       "2022-02-18    4651.2358\n",
       "2022-02-21    4634.3141\n",
       "2022-02-22    4574.1527\n",
       "2022-02-23    4623.0465\n",
       "2022-02-24    4529.3189\n",
       "2022-02-25    4573.4247\n",
       "2022-02-28    4581.6459\n",
       "2022-03-01    4619.6862\n",
       "Name: close, dtype: float64"
      ]
     },
     "execution_count": 3,
     "metadata": {},
     "output_type": "execute_result"
    }
   ],
   "source": [
    "self_uqer.get_data_benchmark(self_uqer.name2code_index['HS300'], 'close', '20220201', '20220301')"
   ]
  },
  {
   "cell_type": "code",
   "execution_count": 7,
   "metadata": {},
   "outputs": [],
   "source": [
    "rawpath = '/Users/nymath/.rqalpha/bundle'"
   ]
  },
  {
   "cell_type": "code",
   "execution_count": 8,
   "metadata": {},
   "outputs": [],
   "source": [
    "test =  pd.to_datetime(np.array(np.load(f'{rawpath}/trading_dates.npy'),dtype='U8'))"
   ]
  },
  {
   "cell_type": "code",
   "execution_count": 9,
   "metadata": {},
   "outputs": [
    {
     "data": {
      "text/plain": [
       "DatetimeIndex(['2012-01-04', '2012-01-05', '2012-01-06', '2012-01-09',\n",
       "               '2012-01-10', '2012-01-11', '2012-01-12', '2012-01-13',\n",
       "               '2012-01-16', '2012-01-17',\n",
       "               ...\n",
       "               '2012-12-18', '2012-12-19', '2012-12-20', '2012-12-21',\n",
       "               '2012-12-24', '2012-12-25', '2012-12-26', '2012-12-27',\n",
       "               '2012-12-28', '2012-12-31'],\n",
       "              dtype='datetime64[ns]', length=243, freq=None)"
      ]
     },
     "execution_count": 9,
     "metadata": {},
     "output_type": "execute_result"
    }
   ],
   "source": [
    "pd.Series(0,test)['2012'].index"
   ]
  },
  {
   "attachments": {},
   "cell_type": "markdown",
   "metadata": {},
   "source": [
    "## 交易日数据获取 "
   ]
  },
  {
   "cell_type": "code",
   "execution_count": 48,
   "metadata": {},
   "outputs": [],
   "source": [
    "from datetime import datetime, timedelta"
   ]
  },
  {
   "cell_type": "code",
   "execution_count": 170,
   "metadata": {},
   "outputs": [],
   "source": [
    "from itertools import tee\n",
    "from itertools import compress\n",
    "def pairwise(iterable):\n",
    "    # pairwise('ABCDEFG') --> AB BC CD DE EF FG\n",
    "    a, b = tee(iterable)\n",
    "    next(b, None)\n",
    "    return zip(a, b)"
   ]
  },
  {
   "cell_type": "code",
   "execution_count": 136,
   "metadata": {},
   "outputs": [
    {
     "data": {
      "text/plain": [
       "Timestamp('2022-01-04 00:00:00')"
      ]
     },
     "execution_count": 136,
     "metadata": {},
     "output_type": "execute_result"
    }
   ],
   "source": [
    "ddt[0]"
   ]
  },
  {
   "cell_type": "code",
   "execution_count": 135,
   "metadata": {},
   "outputs": [
    {
     "data": {
      "text/plain": [
       "pandas._libs.tslibs.timestamps.Timestamp"
      ]
     },
     "execution_count": 135,
     "metadata": {},
     "output_type": "execute_result"
    }
   ],
   "source": [
    "type(ddt[0])"
   ]
  },
  {
   "cell_type": "code",
   "execution_count": 52,
   "metadata": {},
   "outputs": [
    {
     "data": {
      "text/plain": [
       "Timestamp('2022-01-15 00:00:00')"
      ]
     },
     "execution_count": 52,
     "metadata": {},
     "output_type": "execute_result"
    }
   ],
   "source": [
    "ddt[0] + timedelta(days=11)"
   ]
  },
  {
   "cell_type": "code",
   "execution_count": 10,
   "metadata": {},
   "outputs": [],
   "source": [
    "def get_TradeDate(start_date: str, \n",
    "                  end_date: str) -> pd.core.indexes.datetimes.DatetimeIndex:\n",
    "    try:\n",
    "        test = pd.to_datetime(np.array(np.load(f'{rawpath}/trading_dates.npy'),dtype='U8'))\n",
    "    except:\n",
    "        '数据源路径不存在, 请输入rqalpha download-bundle安装'\n",
    "    trade_dates = pd.Series(0,index=test)[start_date:end_date].index\n",
    "    return trade_dates"
   ]
  },
  {
   "cell_type": "code",
   "execution_count": 11,
   "metadata": {},
   "outputs": [],
   "source": [
    "ddt = get_TradeDate('20220101', '20220302')"
   ]
  },
  {
   "cell_type": "code",
   "execution_count": 71,
   "metadata": {},
   "outputs": [
    {
     "data": {
      "text/plain": [
       "6"
      ]
     },
     "execution_count": 71,
     "metadata": {},
     "output_type": "execute_result"
    }
   ],
   "source": [
    "list(map(lambda x:x.year,ddt));\n",
    "reduce(lambda x,y:x+y,[1,2,3])"
   ]
  },
  {
   "cell_type": "code",
   "execution_count": 58,
   "metadata": {},
   "outputs": [
    {
     "data": {
      "text/plain": [
       "array([ True, False, False, False, False, False, False, False, False,\n",
       "       False, False, False, False, False, False, False, False, False,\n",
       "       False, False, False, False, False, False, False, False, False,\n",
       "       False, False, False, False, False, False, False, False, False,\n",
       "       False, False, False, False, False, False, False, False, False,\n",
       "       False, False, False, False, False, False, False, False, False,\n",
       "       False, False, False, False, False])"
      ]
     },
     "execution_count": 58,
     "metadata": {},
     "output_type": "execute_result"
    }
   ],
   "source": [
    "ddt == datetime(2022,1,4)"
   ]
  },
  {
   "cell_type": "code",
   "execution_count": 59,
   "metadata": {},
   "outputs": [
    {
     "data": {
      "text/plain": [
       "Timestamp('2022-01-03 00:00:00')"
      ]
     },
     "execution_count": 59,
     "metadata": {},
     "output_type": "execute_result"
    }
   ],
   "source": [
    "ddt[0] + timedelta(days=-1)"
   ]
  },
  {
   "cell_type": "code",
   "execution_count": 64,
   "metadata": {},
   "outputs": [
    {
     "data": {
      "text/plain": [
       "array([0])"
      ]
     },
     "execution_count": 64,
     "metadata": {},
     "output_type": "execute_result"
    }
   ],
   "source": [
    "np.where(ddt==datetime(2022,1,4))[0]"
   ]
  },
  {
   "cell_type": "code",
   "execution_count": 111,
   "metadata": {},
   "outputs": [],
   "source": [
    "current = '20220104'\n",
    "period = 1"
   ]
  },
  {
   "cell_type": "code",
   "execution_count": 114,
   "metadata": {},
   "outputs": [],
   "source": [
    "current = pd.to_datetime(current)\n",
    "shifts = 3*period + int(np.sign(period)*10)\n",
    "next = current + timedelta(days=shifts)"
   ]
  },
  {
   "cell_type": "code",
   "execution_count": 120,
   "metadata": {},
   "outputs": [
    {
     "data": {
      "text/plain": [
       "Timestamp('2022-01-06 00:00:00')"
      ]
     },
     "execution_count": 120,
     "metadata": {},
     "output_type": "execute_result"
    }
   ],
   "source": [
    "days = get_TradeDate(min(current,next),max(current, next))\n",
    "days[2]"
   ]
  },
  {
   "cell_type": "code",
   "execution_count": 124,
   "metadata": {},
   "outputs": [
    {
     "data": {
      "text/plain": [
       "array([1])"
      ]
     },
     "execution_count": 124,
     "metadata": {},
     "output_type": "execute_result"
    }
   ],
   "source": [
    "np.where(days == current)[0] + period"
   ]
  },
  {
   "cell_type": "code",
   "execution_count": 130,
   "metadata": {},
   "outputs": [],
   "source": [
    "current =  pd.to_datetime(current)\n",
    "shifts = 3*period + int(np.sign(period)*10)\n",
    "next = current + timedelta(days=shifts)\n",
    "days = get_TradeDate(min(current,next),max(current, next))\n",
    "index = np.where(days == current)[0] + period\n",
    "result = days[int(index)]"
   ]
  },
  {
   "cell_type": "code",
   "execution_count": 178,
   "metadata": {},
   "outputs": [],
   "source": [
    "def get_NextTradeDate(current,period=-1):\n",
    "    current =  pd.to_datetime(current)\n",
    "    shifts = 3*period + int(np.sign(period)*10)\n",
    "    next_time = current + timedelta(days=shifts)\n",
    "    days = get_TradeDate(min(current,next_time),max(current, next_time))\n",
    "    index = np.where(days == current)[0] + period\n",
    "    result = days[int(index)]\n",
    "    return result"
   ]
  },
  {
   "cell_type": "code",
   "execution_count": 231,
   "metadata": {},
   "outputs": [],
   "source": [
    "def get_TransferDate(start_date: str, \n",
    "                  end_date: str, end=True, freq='month') -> pd.core.indexes.datetimes.DatetimeIndex:\n",
    "    def pairwise(iterable):\n",
    "        # pairwise('ABCDEFG') --> AB BC CD DE EF FG\n",
    "        a, b = tee(iterable)\n",
    "        next(b, None)\n",
    "        return zip(a, b)\n",
    "    s = get_TradeDate(start_date, end_date)[0]\n",
    "    e = get_TradeDate(start_date, end_date)[-1]\n",
    "    if end:\n",
    "        date_s = pd.to_datetime(s)\n",
    "        date_e = pd.to_datetime(get_NextTradeDate(current=e,period=1))\n",
    "        trade_date = get_TradeDate(date_s,date_e)\n",
    "        exec(f'lst = list(map(lambda x:x[0]!=x[1],pairwise(map(lambda x:x.{freq},trade_date))))',locals())\n",
    "        res = pd.to_datetime(list(compress(trade_date, locals()['lst'])))\n",
    "        return res\n",
    "    if not end:\n",
    "        date_s = pd.to_datetime(get_NextTradeDate(current=s,period=-1))\n",
    "        date_e = pd.to_datetime(e)\n",
    "        trade_date = get_TradeDate(date_s,date_e)\n",
    "        exec(f'lst = list(map(lambda x:x[0]!=x[1],pairwise(map(lambda x:x.{freq},trade_date))))',locals())\n",
    "        res = pd.to_datetime(list(compress(trade_date, locals()['lst'])))\n",
    "        return res"
   ]
  },
  {
   "cell_type": "code",
   "execution_count": 232,
   "metadata": {},
   "outputs": [
    {
     "data": {
      "text/plain": [
       "DatetimeIndex(['2022-01-28', '2022-02-28'], dtype='datetime64[ns]', freq=None)"
      ]
     },
     "execution_count": 232,
     "metadata": {},
     "output_type": "execute_result"
    }
   ],
   "source": [
    "get_TransferDate('20220101','20220301')"
   ]
  },
  {
   "cell_type": "code",
   "execution_count": null,
   "metadata": {},
   "outputs": [],
   "source": [
    "# INterest"
   ]
  },
  {
   "cell_type": "code",
   "execution_count": 39,
   "metadata": {},
   "outputs": [],
   "source": [
    "df = h5py.File('/Users/nymath/.rqalpha/bundle/yield_curve.h5',mode='r')\n",
    "ddt = pd.DataFrame(df['data'][:])"
   ]
  },
  {
   "cell_type": "code",
   "execution_count": 60,
   "metadata": {},
   "outputs": [],
   "source": [
    "def get_data_InterestRate(stard_date: str,\n",
    "                          end_date: str,period: str ='10Y') -> pd.Series:\n",
    "    with h5py.File(f'{rawpath}/yield_curve.h5',mode='r') as hf:\n",
    "        df = pd.DataFrame(hf['data'][:])\n",
    "    data = df[period]\n",
    "    data.index = pd.to_datetime(np.array(df['date'],dtype='<U8'))\n",
    "    df = data[stard_date:end_date]\n",
    "    return df\n",
    "    "
   ]
  },
  {
   "cell_type": "code",
   "execution_count": 44,
   "metadata": {},
   "outputs": [
    {
     "data": {
      "text/html": [
       "<div>\n",
       "<style scoped>\n",
       "    .dataframe tbody tr th:only-of-type {\n",
       "        vertical-align: middle;\n",
       "    }\n",
       "\n",
       "    .dataframe tbody tr th {\n",
       "        vertical-align: top;\n",
       "    }\n",
       "\n",
       "    .dataframe thead th {\n",
       "        text-align: right;\n",
       "    }\n",
       "</style>\n",
       "<table border=\"1\" class=\"dataframe\">\n",
       "  <thead>\n",
       "    <tr style=\"text-align: right;\">\n",
       "      <th></th>\n",
       "      <th>date</th>\n",
       "      <th>0S</th>\n",
       "      <th>1M</th>\n",
       "      <th>2M</th>\n",
       "      <th>3M</th>\n",
       "      <th>6M</th>\n",
       "      <th>9M</th>\n",
       "      <th>1Y</th>\n",
       "      <th>2Y</th>\n",
       "      <th>3Y</th>\n",
       "      <th>...</th>\n",
       "      <th>6Y</th>\n",
       "      <th>7Y</th>\n",
       "      <th>8Y</th>\n",
       "      <th>9Y</th>\n",
       "      <th>10Y</th>\n",
       "      <th>15Y</th>\n",
       "      <th>20Y</th>\n",
       "      <th>30Y</th>\n",
       "      <th>40Y</th>\n",
       "      <th>50Y</th>\n",
       "    </tr>\n",
       "  </thead>\n",
       "  <tbody>\n",
       "    <tr>\n",
       "      <th>0</th>\n",
       "      <td>20050104</td>\n",
       "      <td>0.027393</td>\n",
       "      <td>0.027712</td>\n",
       "      <td>0.028029</td>\n",
       "      <td>0.028344</td>\n",
       "      <td>0.029278</td>\n",
       "      <td>0.030195</td>\n",
       "      <td>0.031095</td>\n",
       "      <td>0.034527</td>\n",
       "      <td>0.037687</td>\n",
       "      <td>...</td>\n",
       "      <td>0.045542</td>\n",
       "      <td>0.047618</td>\n",
       "      <td>0.049423</td>\n",
       "      <td>0.050958</td>\n",
       "      <td>0.052221</td>\n",
       "      <td>0.054470</td>\n",
       "      <td>0.049944</td>\n",
       "      <td>0.020563</td>\n",
       "      <td>NaN</td>\n",
       "      <td>NaN</td>\n",
       "    </tr>\n",
       "    <tr>\n",
       "      <th>1</th>\n",
       "      <td>20050105</td>\n",
       "      <td>0.025691</td>\n",
       "      <td>0.025962</td>\n",
       "      <td>0.026232</td>\n",
       "      <td>0.026501</td>\n",
       "      <td>0.027300</td>\n",
       "      <td>0.028089</td>\n",
       "      <td>0.028868</td>\n",
       "      <td>0.031881</td>\n",
       "      <td>0.034730</td>\n",
       "      <td>...</td>\n",
       "      <td>0.042293</td>\n",
       "      <td>0.044487</td>\n",
       "      <td>0.046516</td>\n",
       "      <td>0.048382</td>\n",
       "      <td>0.050084</td>\n",
       "      <td>0.056134</td>\n",
       "      <td>0.058088</td>\n",
       "      <td>0.049705</td>\n",
       "      <td>NaN</td>\n",
       "      <td>NaN</td>\n",
       "    </tr>\n",
       "    <tr>\n",
       "      <th>2</th>\n",
       "      <td>20050106</td>\n",
       "      <td>0.024908</td>\n",
       "      <td>0.025210</td>\n",
       "      <td>0.025510</td>\n",
       "      <td>0.025809</td>\n",
       "      <td>0.026699</td>\n",
       "      <td>0.027577</td>\n",
       "      <td>0.028443</td>\n",
       "      <td>0.031788</td>\n",
       "      <td>0.034943</td>\n",
       "      <td>...</td>\n",
       "      <td>0.043268</td>\n",
       "      <td>0.045663</td>\n",
       "      <td>0.047867</td>\n",
       "      <td>0.049882</td>\n",
       "      <td>0.051707</td>\n",
       "      <td>0.057979</td>\n",
       "      <td>0.059500</td>\n",
       "      <td>0.048289</td>\n",
       "      <td>NaN</td>\n",
       "      <td>NaN</td>\n",
       "    </tr>\n",
       "    <tr>\n",
       "      <th>3</th>\n",
       "      <td>20050107</td>\n",
       "      <td>0.023603</td>\n",
       "      <td>0.023918</td>\n",
       "      <td>0.024231</td>\n",
       "      <td>0.024542</td>\n",
       "      <td>0.025469</td>\n",
       "      <td>0.026384</td>\n",
       "      <td>0.027286</td>\n",
       "      <td>0.030772</td>\n",
       "      <td>0.034060</td>\n",
       "      <td>...</td>\n",
       "      <td>0.042735</td>\n",
       "      <td>0.045232</td>\n",
       "      <td>0.047530</td>\n",
       "      <td>0.049630</td>\n",
       "      <td>0.051533</td>\n",
       "      <td>0.058077</td>\n",
       "      <td>0.059674</td>\n",
       "      <td>0.048026</td>\n",
       "      <td>NaN</td>\n",
       "      <td>NaN</td>\n",
       "    </tr>\n",
       "    <tr>\n",
       "      <th>4</th>\n",
       "      <td>20050110</td>\n",
       "      <td>0.024315</td>\n",
       "      <td>0.024628</td>\n",
       "      <td>0.024939</td>\n",
       "      <td>0.025249</td>\n",
       "      <td>0.026170</td>\n",
       "      <td>0.027079</td>\n",
       "      <td>0.027976</td>\n",
       "      <td>0.031438</td>\n",
       "      <td>0.034702</td>\n",
       "      <td>...</td>\n",
       "      <td>0.043302</td>\n",
       "      <td>0.045771</td>\n",
       "      <td>0.048042</td>\n",
       "      <td>0.050114</td>\n",
       "      <td>0.051988</td>\n",
       "      <td>0.058377</td>\n",
       "      <td>0.059803</td>\n",
       "      <td>0.047760</td>\n",
       "      <td>NaN</td>\n",
       "      <td>NaN</td>\n",
       "    </tr>\n",
       "    <tr>\n",
       "      <th>...</th>\n",
       "      <td>...</td>\n",
       "      <td>...</td>\n",
       "      <td>...</td>\n",
       "      <td>...</td>\n",
       "      <td>...</td>\n",
       "      <td>...</td>\n",
       "      <td>...</td>\n",
       "      <td>...</td>\n",
       "      <td>...</td>\n",
       "      <td>...</td>\n",
       "      <td>...</td>\n",
       "      <td>...</td>\n",
       "      <td>...</td>\n",
       "      <td>...</td>\n",
       "      <td>...</td>\n",
       "      <td>...</td>\n",
       "      <td>...</td>\n",
       "      <td>...</td>\n",
       "      <td>...</td>\n",
       "      <td>...</td>\n",
       "      <td>...</td>\n",
       "    </tr>\n",
       "    <tr>\n",
       "      <th>4476</th>\n",
       "      <td>20221125</td>\n",
       "      <td>0.009901</td>\n",
       "      <td>0.012452</td>\n",
       "      <td>0.019614</td>\n",
       "      <td>0.020002</td>\n",
       "      <td>0.020422</td>\n",
       "      <td>0.020477</td>\n",
       "      <td>0.020685</td>\n",
       "      <td>0.022871</td>\n",
       "      <td>0.024154</td>\n",
       "      <td>...</td>\n",
       "      <td>NaN</td>\n",
       "      <td>0.028215</td>\n",
       "      <td>NaN</td>\n",
       "      <td>NaN</td>\n",
       "      <td>0.028300</td>\n",
       "      <td>0.029677</td>\n",
       "      <td>0.030459</td>\n",
       "      <td>0.032162</td>\n",
       "      <td>0.032633</td>\n",
       "      <td>0.03295</td>\n",
       "    </tr>\n",
       "    <tr>\n",
       "      <th>4477</th>\n",
       "      <td>20221128</td>\n",
       "      <td>0.010021</td>\n",
       "      <td>0.012455</td>\n",
       "      <td>0.019611</td>\n",
       "      <td>0.020002</td>\n",
       "      <td>0.020422</td>\n",
       "      <td>0.020484</td>\n",
       "      <td>0.020699</td>\n",
       "      <td>0.023114</td>\n",
       "      <td>0.024304</td>\n",
       "      <td>...</td>\n",
       "      <td>NaN</td>\n",
       "      <td>0.028516</td>\n",
       "      <td>NaN</td>\n",
       "      <td>NaN</td>\n",
       "      <td>0.028600</td>\n",
       "      <td>0.029977</td>\n",
       "      <td>0.030697</td>\n",
       "      <td>0.032337</td>\n",
       "      <td>0.032796</td>\n",
       "      <td>0.03310</td>\n",
       "    </tr>\n",
       "    <tr>\n",
       "      <th>4478</th>\n",
       "      <td>20221129</td>\n",
       "      <td>0.012198</td>\n",
       "      <td>0.013265</td>\n",
       "      <td>0.020056</td>\n",
       "      <td>0.020221</td>\n",
       "      <td>0.020641</td>\n",
       "      <td>0.020813</td>\n",
       "      <td>0.021139</td>\n",
       "      <td>0.023519</td>\n",
       "      <td>0.024715</td>\n",
       "      <td>...</td>\n",
       "      <td>NaN</td>\n",
       "      <td>0.028737</td>\n",
       "      <td>NaN</td>\n",
       "      <td>NaN</td>\n",
       "      <td>0.028800</td>\n",
       "      <td>0.030177</td>\n",
       "      <td>0.030960</td>\n",
       "      <td>0.032663</td>\n",
       "      <td>0.033134</td>\n",
       "      <td>0.03345</td>\n",
       "    </tr>\n",
       "    <tr>\n",
       "      <th>4479</th>\n",
       "      <td>20221130</td>\n",
       "      <td>0.014500</td>\n",
       "      <td>0.015567</td>\n",
       "      <td>0.019987</td>\n",
       "      <td>0.020811</td>\n",
       "      <td>0.020941</td>\n",
       "      <td>0.021016</td>\n",
       "      <td>0.021341</td>\n",
       "      <td>0.023602</td>\n",
       "      <td>0.024717</td>\n",
       "      <td>...</td>\n",
       "      <td>NaN</td>\n",
       "      <td>0.028745</td>\n",
       "      <td>NaN</td>\n",
       "      <td>NaN</td>\n",
       "      <td>0.028850</td>\n",
       "      <td>0.030227</td>\n",
       "      <td>0.031035</td>\n",
       "      <td>0.032763</td>\n",
       "      <td>0.033234</td>\n",
       "      <td>0.03355</td>\n",
       "    </tr>\n",
       "    <tr>\n",
       "      <th>4480</th>\n",
       "      <td>20221201</td>\n",
       "      <td>0.014000</td>\n",
       "      <td>0.015367</td>\n",
       "      <td>0.020088</td>\n",
       "      <td>0.020810</td>\n",
       "      <td>0.020940</td>\n",
       "      <td>0.021073</td>\n",
       "      <td>0.021456</td>\n",
       "      <td>0.023354</td>\n",
       "      <td>0.024517</td>\n",
       "      <td>...</td>\n",
       "      <td>NaN</td>\n",
       "      <td>0.028558</td>\n",
       "      <td>NaN</td>\n",
       "      <td>NaN</td>\n",
       "      <td>0.028600</td>\n",
       "      <td>0.029977</td>\n",
       "      <td>0.030836</td>\n",
       "      <td>0.032615</td>\n",
       "      <td>0.033135</td>\n",
       "      <td>0.03350</td>\n",
       "    </tr>\n",
       "  </tbody>\n",
       "</table>\n",
       "<p>4481 rows × 22 columns</p>\n",
       "</div>"
      ],
      "text/plain": [
       "          date        0S        1M        2M        3M        6M        9M  \\\n",
       "0     20050104  0.027393  0.027712  0.028029  0.028344  0.029278  0.030195   \n",
       "1     20050105  0.025691  0.025962  0.026232  0.026501  0.027300  0.028089   \n",
       "2     20050106  0.024908  0.025210  0.025510  0.025809  0.026699  0.027577   \n",
       "3     20050107  0.023603  0.023918  0.024231  0.024542  0.025469  0.026384   \n",
       "4     20050110  0.024315  0.024628  0.024939  0.025249  0.026170  0.027079   \n",
       "...        ...       ...       ...       ...       ...       ...       ...   \n",
       "4476  20221125  0.009901  0.012452  0.019614  0.020002  0.020422  0.020477   \n",
       "4477  20221128  0.010021  0.012455  0.019611  0.020002  0.020422  0.020484   \n",
       "4478  20221129  0.012198  0.013265  0.020056  0.020221  0.020641  0.020813   \n",
       "4479  20221130  0.014500  0.015567  0.019987  0.020811  0.020941  0.021016   \n",
       "4480  20221201  0.014000  0.015367  0.020088  0.020810  0.020940  0.021073   \n",
       "\n",
       "            1Y        2Y        3Y  ...        6Y        7Y        8Y  \\\n",
       "0     0.031095  0.034527  0.037687  ...  0.045542  0.047618  0.049423   \n",
       "1     0.028868  0.031881  0.034730  ...  0.042293  0.044487  0.046516   \n",
       "2     0.028443  0.031788  0.034943  ...  0.043268  0.045663  0.047867   \n",
       "3     0.027286  0.030772  0.034060  ...  0.042735  0.045232  0.047530   \n",
       "4     0.027976  0.031438  0.034702  ...  0.043302  0.045771  0.048042   \n",
       "...        ...       ...       ...  ...       ...       ...       ...   \n",
       "4476  0.020685  0.022871  0.024154  ...       NaN  0.028215       NaN   \n",
       "4477  0.020699  0.023114  0.024304  ...       NaN  0.028516       NaN   \n",
       "4478  0.021139  0.023519  0.024715  ...       NaN  0.028737       NaN   \n",
       "4479  0.021341  0.023602  0.024717  ...       NaN  0.028745       NaN   \n",
       "4480  0.021456  0.023354  0.024517  ...       NaN  0.028558       NaN   \n",
       "\n",
       "            9Y       10Y       15Y       20Y       30Y       40Y      50Y  \n",
       "0     0.050958  0.052221  0.054470  0.049944  0.020563       NaN      NaN  \n",
       "1     0.048382  0.050084  0.056134  0.058088  0.049705       NaN      NaN  \n",
       "2     0.049882  0.051707  0.057979  0.059500  0.048289       NaN      NaN  \n",
       "3     0.049630  0.051533  0.058077  0.059674  0.048026       NaN      NaN  \n",
       "4     0.050114  0.051988  0.058377  0.059803  0.047760       NaN      NaN  \n",
       "...        ...       ...       ...       ...       ...       ...      ...  \n",
       "4476       NaN  0.028300  0.029677  0.030459  0.032162  0.032633  0.03295  \n",
       "4477       NaN  0.028600  0.029977  0.030697  0.032337  0.032796  0.03310  \n",
       "4478       NaN  0.028800  0.030177  0.030960  0.032663  0.033134  0.03345  \n",
       "4479       NaN  0.028850  0.030227  0.031035  0.032763  0.033234  0.03355  \n",
       "4480       NaN  0.028600  0.029977  0.030836  0.032615  0.033135  0.03350  \n",
       "\n",
       "[4481 rows x 22 columns]"
      ]
     },
     "execution_count": 44,
     "metadata": {},
     "output_type": "execute_result"
    }
   ],
   "source": [
    "ddt "
   ]
  },
  {
   "cell_type": "code",
   "execution_count": null,
   "metadata": {},
   "outputs": [],
   "source": []
  },
  {
   "cell_type": "code",
   "execution_count": null,
   "metadata": {},
   "outputs": [],
   "source": []
  },
  {
   "cell_type": "code",
   "execution_count": null,
   "metadata": {},
   "outputs": [],
   "source": []
  },
  {
   "cell_type": "code",
   "execution_count": null,
   "metadata": {},
   "outputs": [],
   "source": []
  },
  {
   "attachments": {},
   "cell_type": "markdown",
   "metadata": {},
   "source": [
    "# Benckmark"
   ]
  },
  {
   "cell_type": "code",
   "execution_count": 250,
   "metadata": {},
   "outputs": [],
   "source": [
    "def get_data_benchmark(ts_code: str, field: str,\n",
    "                       start_date: str, end_date: str):\n",
    "    '''\n",
    "    tscode: 传入标准的指数代码, 例如 000300.XSHG\n",
    "    field: open, high, low, close, volumn, total_turnover\n",
    "    '''\n",
    "    with h5py.File(f'{rawpath}/indexes.h5',mode='r') as hf:\n",
    "        df = pd.DataFrame(hf[ts_code][:])\n",
    "    data = df[field]\n",
    "    data.index = pd.to_datetime(np.array(df['datetime'],dtype='<U8'))\n",
    "    df = data.loc[start_date:end_date]\n",
    "    return df"
   ]
  },
  {
   "cell_type": "code",
   "execution_count": 270,
   "metadata": {},
   "outputs": [
    {
     "data": {
      "text/plain": [
       "2022-01-04    4917.7653\n",
       "2022-01-05    4868.1202\n",
       "2022-01-06    4818.2318\n",
       "2022-01-07    4822.3689\n",
       "2022-01-10    4844.0451\n",
       "Name: close, dtype: float64"
      ]
     },
     "execution_count": 270,
     "metadata": {},
     "output_type": "execute_result"
    }
   ],
   "source": [
    "get_data_benchmark('000300.XSHG', 'close', '20220101', '20220110')"
   ]
  },
  {
   "cell_type": "code",
   "execution_count": 237,
   "metadata": {},
   "outputs": [],
   "source": [
    "df = h5py.File('/Users/nymath/.rqalpha/bundle/indexes.h5',mode='r')"
   ]
  },
  {
   "cell_type": "code",
   "execution_count": 245,
   "metadata": {},
   "outputs": [
    {
     "data": {
      "text/html": [
       "<div>\n",
       "<style scoped>\n",
       "    .dataframe tbody tr th:only-of-type {\n",
       "        vertical-align: middle;\n",
       "    }\n",
       "\n",
       "    .dataframe tbody tr th {\n",
       "        vertical-align: top;\n",
       "    }\n",
       "\n",
       "    .dataframe thead th {\n",
       "        text-align: right;\n",
       "    }\n",
       "</style>\n",
       "<table border=\"1\" class=\"dataframe\">\n",
       "  <thead>\n",
       "    <tr style=\"text-align: right;\">\n",
       "      <th></th>\n",
       "      <th>datetime</th>\n",
       "      <th>open</th>\n",
       "      <th>close</th>\n",
       "      <th>high</th>\n",
       "      <th>low</th>\n",
       "      <th>volume</th>\n",
       "      <th>total_turnover</th>\n",
       "    </tr>\n",
       "  </thead>\n",
       "  <tbody>\n",
       "    <tr>\n",
       "      <th>0</th>\n",
       "      <td>20050104000000</td>\n",
       "      <td>994.7700</td>\n",
       "      <td>982.7900</td>\n",
       "      <td>994.7700</td>\n",
       "      <td>980.6600</td>\n",
       "      <td>7.412869e+08</td>\n",
       "      <td>4.431977e+09</td>\n",
       "    </tr>\n",
       "    <tr>\n",
       "      <th>1</th>\n",
       "      <td>20050105000000</td>\n",
       "      <td>981.5800</td>\n",
       "      <td>992.5600</td>\n",
       "      <td>997.3200</td>\n",
       "      <td>979.8800</td>\n",
       "      <td>7.119109e+08</td>\n",
       "      <td>4.529208e+09</td>\n",
       "    </tr>\n",
       "    <tr>\n",
       "      <th>2</th>\n",
       "      <td>20050106000000</td>\n",
       "      <td>993.3300</td>\n",
       "      <td>983.1700</td>\n",
       "      <td>993.7900</td>\n",
       "      <td>980.3300</td>\n",
       "      <td>6.288028e+08</td>\n",
       "      <td>3.921015e+09</td>\n",
       "    </tr>\n",
       "    <tr>\n",
       "      <th>3</th>\n",
       "      <td>20050107000000</td>\n",
       "      <td>983.0500</td>\n",
       "      <td>983.9600</td>\n",
       "      <td>995.7100</td>\n",
       "      <td>979.8100</td>\n",
       "      <td>7.298694e+08</td>\n",
       "      <td>4.737469e+09</td>\n",
       "    </tr>\n",
       "    <tr>\n",
       "      <th>4</th>\n",
       "      <td>20050110000000</td>\n",
       "      <td>983.7600</td>\n",
       "      <td>993.8800</td>\n",
       "      <td>993.9600</td>\n",
       "      <td>979.7900</td>\n",
       "      <td>5.791697e+08</td>\n",
       "      <td>3.762932e+09</td>\n",
       "    </tr>\n",
       "    <tr>\n",
       "      <th>...</th>\n",
       "      <td>...</td>\n",
       "      <td>...</td>\n",
       "      <td>...</td>\n",
       "      <td>...</td>\n",
       "      <td>...</td>\n",
       "      <td>...</td>\n",
       "      <td>...</td>\n",
       "    </tr>\n",
       "    <tr>\n",
       "      <th>4348</th>\n",
       "      <td>20221125000000</td>\n",
       "      <td>3751.2822</td>\n",
       "      <td>3775.7764</td>\n",
       "      <td>3790.5660</td>\n",
       "      <td>3743.4138</td>\n",
       "      <td>1.429297e+10</td>\n",
       "      <td>1.917110e+11</td>\n",
       "    </tr>\n",
       "    <tr>\n",
       "      <th>4349</th>\n",
       "      <td>20221128000000</td>\n",
       "      <td>3701.9020</td>\n",
       "      <td>3733.2424</td>\n",
       "      <td>3736.0813</td>\n",
       "      <td>3672.1306</td>\n",
       "      <td>1.278257e+10</td>\n",
       "      <td>1.963056e+11</td>\n",
       "    </tr>\n",
       "    <tr>\n",
       "      <th>4350</th>\n",
       "      <td>20221129000000</td>\n",
       "      <td>3766.5702</td>\n",
       "      <td>3848.4224</td>\n",
       "      <td>3854.7742</td>\n",
       "      <td>3766.5702</td>\n",
       "      <td>1.787014e+10</td>\n",
       "      <td>2.890623e+11</td>\n",
       "    </tr>\n",
       "    <tr>\n",
       "      <th>4351</th>\n",
       "      <td>20221130000000</td>\n",
       "      <td>3836.5598</td>\n",
       "      <td>3853.0365</td>\n",
       "      <td>3867.6591</td>\n",
       "      <td>3833.8272</td>\n",
       "      <td>1.575114e+10</td>\n",
       "      <td>2.500515e+11</td>\n",
       "    </tr>\n",
       "    <tr>\n",
       "      <th>4352</th>\n",
       "      <td>20221201000000</td>\n",
       "      <td>3921.2954</td>\n",
       "      <td>3894.7687</td>\n",
       "      <td>3944.5645</td>\n",
       "      <td>3893.8718</td>\n",
       "      <td>1.699646e+10</td>\n",
       "      <td>3.066782e+11</td>\n",
       "    </tr>\n",
       "  </tbody>\n",
       "</table>\n",
       "<p>4353 rows × 7 columns</p>\n",
       "</div>"
      ],
      "text/plain": [
       "            datetime       open      close       high        low  \\\n",
       "0     20050104000000   994.7700   982.7900   994.7700   980.6600   \n",
       "1     20050105000000   981.5800   992.5600   997.3200   979.8800   \n",
       "2     20050106000000   993.3300   983.1700   993.7900   980.3300   \n",
       "3     20050107000000   983.0500   983.9600   995.7100   979.8100   \n",
       "4     20050110000000   983.7600   993.8800   993.9600   979.7900   \n",
       "...              ...        ...        ...        ...        ...   \n",
       "4348  20221125000000  3751.2822  3775.7764  3790.5660  3743.4138   \n",
       "4349  20221128000000  3701.9020  3733.2424  3736.0813  3672.1306   \n",
       "4350  20221129000000  3766.5702  3848.4224  3854.7742  3766.5702   \n",
       "4351  20221130000000  3836.5598  3853.0365  3867.6591  3833.8272   \n",
       "4352  20221201000000  3921.2954  3894.7687  3944.5645  3893.8718   \n",
       "\n",
       "            volume  total_turnover  \n",
       "0     7.412869e+08    4.431977e+09  \n",
       "1     7.119109e+08    4.529208e+09  \n",
       "2     6.288028e+08    3.921015e+09  \n",
       "3     7.298694e+08    4.737469e+09  \n",
       "4     5.791697e+08    3.762932e+09  \n",
       "...            ...             ...  \n",
       "4348  1.429297e+10    1.917110e+11  \n",
       "4349  1.278257e+10    1.963056e+11  \n",
       "4350  1.787014e+10    2.890623e+11  \n",
       "4351  1.575114e+10    2.500515e+11  \n",
       "4352  1.699646e+10    3.066782e+11  \n",
       "\n",
       "[4353 rows x 7 columns]"
      ]
     },
     "execution_count": 245,
     "metadata": {},
     "output_type": "execute_result"
    }
   ],
   "source": [
    "pd.DataFrame(df['000300.XSHG'][:])"
   ]
  },
  {
   "cell_type": "code",
   "execution_count": null,
   "metadata": {},
   "outputs": [],
   "source": []
  },
  {
   "cell_type": "code",
   "execution_count": null,
   "metadata": {},
   "outputs": [],
   "source": []
  },
  {
   "cell_type": "code",
   "execution_count": 253,
   "metadata": {},
   "outputs": [],
   "source": [
    "import rqalpha"
   ]
  },
  {
   "cell_type": "code",
   "execution_count": 257,
   "metadata": {},
   "outputs": [
    {
     "ename": "RuntimeError",
     "evalue": "stack is empty",
     "output_type": "error",
     "traceback": [
      "\u001b[0;31m---------------------------------------------------------------------------\u001b[0m",
      "\u001b[0;31mIndexError\u001b[0m                                Traceback (most recent call last)",
      "\u001b[0;32m~/opt/anaconda3/lib/python3.9/site-packages/rqalpha/core/execution_context.py\u001b[0m in \u001b[0;36mtop\u001b[0;34m(self)\u001b[0m\n\u001b[1;32m     52\u001b[0m         \u001b[0;32mtry\u001b[0m\u001b[0;34m:\u001b[0m\u001b[0;34m\u001b[0m\u001b[0;34m\u001b[0m\u001b[0m\n\u001b[0;32m---> 53\u001b[0;31m             \u001b[0;32mreturn\u001b[0m \u001b[0mself\u001b[0m\u001b[0;34m.\u001b[0m\u001b[0mstack\u001b[0m\u001b[0;34m[\u001b[0m\u001b[0;34m-\u001b[0m\u001b[0;36m1\u001b[0m\u001b[0;34m]\u001b[0m\u001b[0;34m\u001b[0m\u001b[0;34m\u001b[0m\u001b[0m\n\u001b[0m\u001b[1;32m     54\u001b[0m         \u001b[0;32mexcept\u001b[0m \u001b[0mIndexError\u001b[0m\u001b[0;34m:\u001b[0m\u001b[0;34m\u001b[0m\u001b[0;34m\u001b[0m\u001b[0m\n",
      "\u001b[0;31mIndexError\u001b[0m: list index out of range",
      "\nDuring handling of the above exception, another exception occurred:\n",
      "\u001b[0;31mRuntimeError\u001b[0m                              Traceback (most recent call last)",
      "\u001b[0;32m/var/folders/31/rx49cg9n64z7rn2vk4yd8d740000gn/T/ipykernel_20666/1823195803.py\u001b[0m in \u001b[0;36m<module>\u001b[0;34m\u001b[0m\n\u001b[0;32m----> 1\u001b[0;31m \u001b[0mrqalpha\u001b[0m\u001b[0;34m.\u001b[0m\u001b[0mapi\u001b[0m\u001b[0;34m.\u001b[0m\u001b[0mget_price\u001b[0m\u001b[0;34m(\u001b[0m\u001b[0;34m'000300.XSHG'\u001b[0m\u001b[0;34m,\u001b[0m \u001b[0;34m'20220101'\u001b[0m\u001b[0;34m,\u001b[0m \u001b[0mend_date\u001b[0m\u001b[0;34m=\u001b[0m\u001b[0;34m'20220301'\u001b[0m\u001b[0;34m)\u001b[0m\u001b[0;34m\u001b[0m\u001b[0;34m\u001b[0m\u001b[0m\n\u001b[0m",
      "\u001b[0;32m~/opt/anaconda3/lib/python3.9/site-packages/rqalpha/core/execution_context.py\u001b[0m in \u001b[0;36mwrapper\u001b[0;34m(*args, **kwargs)\u001b[0m\n\u001b[1;32m    106\u001b[0m             \u001b[0;34m@\u001b[0m\u001b[0mwraps\u001b[0m\u001b[0;34m(\u001b[0m\u001b[0mfunc\u001b[0m\u001b[0;34m)\u001b[0m\u001b[0;34m\u001b[0m\u001b[0;34m\u001b[0m\u001b[0m\n\u001b[1;32m    107\u001b[0m             \u001b[0;32mdef\u001b[0m \u001b[0mwrapper\u001b[0m\u001b[0;34m(\u001b[0m\u001b[0;34m*\u001b[0m\u001b[0margs\u001b[0m\u001b[0;34m,\u001b[0m \u001b[0;34m**\u001b[0m\u001b[0mkwargs\u001b[0m\u001b[0;34m)\u001b[0m\u001b[0;34m:\u001b[0m\u001b[0;34m\u001b[0m\u001b[0;34m\u001b[0m\u001b[0m\n\u001b[0;32m--> 108\u001b[0;31m                 \u001b[0mphase\u001b[0m \u001b[0;34m=\u001b[0m \u001b[0mcls\u001b[0m\u001b[0;34m.\u001b[0m\u001b[0mstack\u001b[0m\u001b[0;34m.\u001b[0m\u001b[0mtop\u001b[0m\u001b[0;34m.\u001b[0m\u001b[0mphase\u001b[0m\u001b[0;34m\u001b[0m\u001b[0;34m\u001b[0m\u001b[0m\n\u001b[0m\u001b[1;32m    109\u001b[0m                 \u001b[0;32mif\u001b[0m \u001b[0mphase\u001b[0m \u001b[0;32mnot\u001b[0m \u001b[0;32min\u001b[0m \u001b[0mphases\u001b[0m\u001b[0;34m:\u001b[0m\u001b[0;34m\u001b[0m\u001b[0;34m\u001b[0m\u001b[0m\n\u001b[1;32m    110\u001b[0m                     raise patch_user_exc(\n",
      "\u001b[0;32m~/opt/anaconda3/lib/python3.9/site-packages/rqalpha/core/execution_context.py\u001b[0m in \u001b[0;36mtop\u001b[0;34m(self)\u001b[0m\n\u001b[1;32m     53\u001b[0m             \u001b[0;32mreturn\u001b[0m \u001b[0mself\u001b[0m\u001b[0;34m.\u001b[0m\u001b[0mstack\u001b[0m\u001b[0;34m[\u001b[0m\u001b[0;34m-\u001b[0m\u001b[0;36m1\u001b[0m\u001b[0;34m]\u001b[0m\u001b[0;34m\u001b[0m\u001b[0;34m\u001b[0m\u001b[0m\n\u001b[1;32m     54\u001b[0m         \u001b[0;32mexcept\u001b[0m \u001b[0mIndexError\u001b[0m\u001b[0;34m:\u001b[0m\u001b[0;34m\u001b[0m\u001b[0;34m\u001b[0m\u001b[0m\n\u001b[0;32m---> 55\u001b[0;31m             \u001b[0;32mraise\u001b[0m \u001b[0mRuntimeError\u001b[0m\u001b[0;34m(\u001b[0m\u001b[0;34m\"stack is empty\"\u001b[0m\u001b[0;34m)\u001b[0m\u001b[0;34m\u001b[0m\u001b[0;34m\u001b[0m\u001b[0m\n\u001b[0m\u001b[1;32m     56\u001b[0m \u001b[0;34m\u001b[0m\u001b[0m\n\u001b[1;32m     57\u001b[0m \u001b[0;34m\u001b[0m\u001b[0m\n",
      "\u001b[0;31mRuntimeError\u001b[0m: stack is empty"
     ]
    }
   ],
   "source": [
    "rqalpha.api.get_price('000300.XSHG', '20220101', end_date='20220301')"
   ]
  },
  {
   "cell_type": "code",
   "execution_count": 263,
   "metadata": {},
   "outputs": [],
   "source": [
    "df = pd.DataFrame(np.ones(20).reshape(10,2),columns=['a','b'])"
   ]
  },
  {
   "cell_type": "code",
   "execution_count": 15,
   "metadata": {},
   "outputs": [],
   "source": [
    "cond = \"\"\"\n",
    "c = 1+1\n",
    "d = 1+2\n",
    "print(c,d)\n",
    "\"\"\""
   ]
  },
  {
   "cell_type": "code",
   "execution_count": 11,
   "metadata": {},
   "outputs": [
    {
     "name": "stdout",
     "output_type": "stream",
     "text": [
      "2 3\n"
     ]
    }
   ],
   "source": [
    "exec(cond)"
   ]
  },
  {
   "cell_type": "code",
   "execution_count": 16,
   "metadata": {},
   "outputs": [],
   "source": [
    "def main():\n",
    "    exec(cond)"
   ]
  },
  {
   "cell_type": "code",
   "execution_count": 22,
   "metadata": {},
   "outputs": [],
   "source": [
    "tset = \"\"\"\n",
    "for i in range(10):\n",
    "    print(i) # test\n",
    "\"\"\""
   ]
  },
  {
   "cell_type": "code",
   "execution_count": 27,
   "metadata": {},
   "outputs": [],
   "source": [
    "test = pd.Series(index=[0,1,2,3,4,5],dtype='f8')"
   ]
  },
  {
   "cell_type": "code",
   "execution_count": 28,
   "metadata": {},
   "outputs": [
    {
     "data": {
      "text/plain": [
       "nan"
      ]
     },
     "execution_count": 28,
     "metadata": {},
     "output_type": "execute_result"
    }
   ],
   "source": [
    "test[0]"
   ]
  },
  {
   "cell_type": "code",
   "execution_count": null,
   "metadata": {},
   "outputs": [],
   "source": []
  },
  {
   "cell_type": "code",
   "execution_count": null,
   "metadata": {},
   "outputs": [],
   "source": [
    "def get_data_benchmark(ts_code: str, field: str,\n",
    "                       start_date: str, end_date: str):\n",
    "    '''\n",
    "    tscode: 传入标准的指数代码, 例如 000300.XSHG\n",
    "    field: open, high, low, close, volumn, total_turnover\n",
    "    '''\n",
    "    with h5py.File(f'{rawpath}/indexes.h5',mode='r') as hf:\n",
    "        df = pd.DataFrame(hf[ts_code][:])\n",
    "    data = df[field]\n",
    "    data.index = pd.to_datetime(np.array(df['datetime'],dtype='U8'))\n",
    "    df = data.loc[start_date:end_date]\n",
    "    return df"
   ]
  },
  {
   "cell_type": "code",
   "execution_count": 1,
   "metadata": {},
   "outputs": [],
   "source": [
    "import h5py\n",
    "rawpath = '/Users/nymath/.rqalpha/bundle'\n",
    "import pandas as pd\n",
    "import numpy as np\n",
    "from trade import self_uqer\n"
   ]
  },
  {
   "attachments": {},
   "cell_type": "markdown",
   "metadata": {},
   "source": [
    "# 获取股票数据"
   ]
  },
  {
   "cell_type": "code",
   "execution_count": 45,
   "metadata": {},
   "outputs": [],
   "source": [
    "ts_code = '000001.XSHE'\n",
    "current_date = '20100101'"
   ]
  },
  {
   "cell_type": "code",
   "execution_count": 49,
   "metadata": {},
   "outputs": [],
   "source": [
    "with h5py.File(f'{rawpath}/ex_cum_factor.h5',mode='r') as hf:\n",
    "    df = pd.DataFrame(hf[ts_code][:])\n",
    "df.drop(0,axis='rows',inplace=True)\n",
    "df.index = pd.to_datetime(np.array(df['start_date'],dtype='U8'))\n",
    "df = df['ex_cum_factor']\n",
    "true_time = df.index.asof(current_date) \n",
    "ex_factor = df[-1]/df[true_time]"
   ]
  },
  {
   "cell_type": "code",
   "execution_count": 36,
   "metadata": {},
   "outputs": [],
   "source": [
    "df.index = pd.to_datetime(np.array(df['start_date'],dtype='U8'))"
   ]
  },
  {
   "cell_type": "code",
   "execution_count": 38,
   "metadata": {},
   "outputs": [],
   "source": [
    "df.index = pd.to_datetime(np.array(df['start_date'],dtype='U8'))"
   ]
  },
  {
   "cell_type": "code",
   "execution_count": 64,
   "metadata": {},
   "outputs": [],
   "source": [
    "ts = pd.date_range('20020101',periods=10)"
   ]
  },
  {
   "cell_type": "code",
   "execution_count": 4,
   "metadata": {},
   "outputs": [],
   "source": [
    "from trade import self_uqer"
   ]
  },
  {
   "cell_type": "code",
   "execution_count": 4,
   "metadata": {},
   "outputs": [],
   "source": [
    "lst = self_uqer.get_data_index_components('000300.XSHG','20220101')"
   ]
  },
  {
   "cell_type": "code",
   "execution_count": 8,
   "metadata": {},
   "outputs": [],
   "source": [
    "lsss = []\n",
    "for s in lst[:30]:   \n",
    "    lsss.append(self_uqer.get_data_assets(s, 'close', '20120101', '20200101',exclude_ds=True))"
   ]
  },
  {
   "cell_type": "code",
   "execution_count": 2,
   "metadata": {},
   "outputs": [
    {
     "data": {
      "text/plain": [
       "2012-01-04    4.781361\n",
       "2012-01-05    4.853902\n",
       "2012-01-06    4.841286\n",
       "2012-01-09    4.976905\n",
       "2012-01-10    4.976905\n",
       "2012-01-11    4.976905\n",
       "2012-01-12    4.976905\n",
       "2012-01-13    4.976905\n",
       "2012-01-16    4.976905\n",
       "2012-01-17    4.976905\n",
       "2012-01-18    4.976905\n",
       "2012-01-19    4.976905\n",
       "2012-01-20    5.292298\n",
       "2012-01-30    5.270221\n",
       "2012-01-31    5.248143\n",
       "2012-02-01    5.188218\n",
       "2012-02-02    5.336453\n",
       "2012-02-03    5.358531\n",
       "2012-02-06    5.308068\n",
       "2012-02-07    5.232373\n",
       "2012-02-08    5.330145\n",
       "2012-02-09    5.330145\n",
       "2012-02-10    5.333299\n",
       "2012-02-13    5.260759\n",
       "2012-02-14    5.235527\n",
       "2012-02-15    5.241835\n",
       "2012-02-16    5.188218\n",
       "2012-02-17    5.188218\n",
       "2012-02-20    5.188218\n",
       "2012-02-21    5.200834\n",
       "2012-02-22    5.241835\n",
       "2012-02-23    5.244989\n",
       "2012-02-24    5.320684\n",
       "2012-02-27    5.336453\n",
       "2012-02-28    5.440533\n",
       "2012-02-29    5.393224\n",
       "2012-03-01    5.434225\n",
       "dtype: float64"
      ]
     },
     "execution_count": 2,
     "metadata": {},
     "output_type": "execute_result"
    }
   ],
   "source": [
    "self_uqer.get_data_assets('000001.XSHE', 'close', '20120101', '20120301',exclude_ds=True)"
   ]
  },
  {
   "cell_type": "code",
   "execution_count": 9,
   "metadata": {},
   "outputs": [],
   "source": [
    "lst = pd.Series([1,2,3,4],index='')"
   ]
  },
  {
   "cell_type": "code",
   "execution_count": 12,
   "metadata": {},
   "outputs": [],
   "source": [
    "ts_code = '000001.XSHE'\n",
    "with h5py.File(f'{rawpath}/ex_cum_factor.h5',mode='r') as hf:\n",
    "    df = pd.DataFrame(hf[ts_code][:])"
   ]
  },
  {
   "cell_type": "code",
   "execution_count": 14,
   "metadata": {},
   "outputs": [],
   "source": [
    "df.iloc[0,0] = '19900101000000'"
   ]
  },
  {
   "cell_type": "code",
   "execution_count": 15,
   "metadata": {},
   "outputs": [
    {
     "data": {
      "text/html": [
       "<div>\n",
       "<style scoped>\n",
       "    .dataframe tbody tr th:only-of-type {\n",
       "        vertical-align: middle;\n",
       "    }\n",
       "\n",
       "    .dataframe tbody tr th {\n",
       "        vertical-align: top;\n",
       "    }\n",
       "\n",
       "    .dataframe thead th {\n",
       "        text-align: right;\n",
       "    }\n",
       "</style>\n",
       "<table border=\"1\" class=\"dataframe\">\n",
       "  <thead>\n",
       "    <tr style=\"text-align: right;\">\n",
       "      <th></th>\n",
       "      <th>start_date</th>\n",
       "      <th>ex_cum_factor</th>\n",
       "    </tr>\n",
       "  </thead>\n",
       "  <tbody>\n",
       "    <tr>\n",
       "      <th>0</th>\n",
       "      <td>19900101000000</td>\n",
       "      <td>1.00000</td>\n",
       "    </tr>\n",
       "    <tr>\n",
       "      <th>1</th>\n",
       "      <td>19910817000000</td>\n",
       "      <td>1.15749</td>\n",
       "    </tr>\n",
       "    <tr>\n",
       "      <th>2</th>\n",
       "      <td>19920323000000</td>\n",
       "      <td>1.74700</td>\n",
       "    </tr>\n",
       "    <tr>\n",
       "      <th>3</th>\n",
       "      <td>19930524000000</td>\n",
       "      <td>3.32715</td>\n",
       "    </tr>\n",
       "    <tr>\n",
       "      <th>4</th>\n",
       "      <td>19940711000000</td>\n",
       "      <td>5.32344</td>\n",
       "    </tr>\n",
       "    <tr>\n",
       "      <th>5</th>\n",
       "      <td>19950925000000</td>\n",
       "      <td>6.58838</td>\n",
       "    </tr>\n",
       "    <tr>\n",
       "      <th>6</th>\n",
       "      <td>19960527000000</td>\n",
       "      <td>13.17680</td>\n",
       "    </tr>\n",
       "    <tr>\n",
       "      <th>7</th>\n",
       "      <td>19970825000000</td>\n",
       "      <td>19.89110</td>\n",
       "    </tr>\n",
       "    <tr>\n",
       "      <th>8</th>\n",
       "      <td>19991018000000</td>\n",
       "      <td>20.43190</td>\n",
       "    </tr>\n",
       "    <tr>\n",
       "      <th>9</th>\n",
       "      <td>20001106000000</td>\n",
       "      <td>22.97620</td>\n",
       "    </tr>\n",
       "    <tr>\n",
       "      <th>10</th>\n",
       "      <td>20020723000000</td>\n",
       "      <td>23.21630</td>\n",
       "    </tr>\n",
       "    <tr>\n",
       "      <th>11</th>\n",
       "      <td>20030929000000</td>\n",
       "      <td>23.59530</td>\n",
       "    </tr>\n",
       "    <tr>\n",
       "      <th>12</th>\n",
       "      <td>20070620000000</td>\n",
       "      <td>25.96290</td>\n",
       "    </tr>\n",
       "    <tr>\n",
       "      <th>13</th>\n",
       "      <td>20081031000000</td>\n",
       "      <td>33.85210</td>\n",
       "    </tr>\n",
       "    <tr>\n",
       "      <th>14</th>\n",
       "      <td>20121019000000</td>\n",
       "      <td>34.10450</td>\n",
       "    </tr>\n",
       "    <tr>\n",
       "      <th>15</th>\n",
       "      <td>20130620000000</td>\n",
       "      <td>55.05370</td>\n",
       "    </tr>\n",
       "    <tr>\n",
       "      <th>16</th>\n",
       "      <td>20140612000000</td>\n",
       "      <td>66.97410</td>\n",
       "    </tr>\n",
       "    <tr>\n",
       "      <th>17</th>\n",
       "      <td>20150413000000</td>\n",
       "      <td>81.08150</td>\n",
       "    </tr>\n",
       "    <tr>\n",
       "      <th>18</th>\n",
       "      <td>20160616000000</td>\n",
       "      <td>98.74490</td>\n",
       "    </tr>\n",
       "    <tr>\n",
       "      <th>19</th>\n",
       "      <td>20170721000000</td>\n",
       "      <td>100.18800</td>\n",
       "    </tr>\n",
       "    <tr>\n",
       "      <th>20</th>\n",
       "      <td>20180712000000</td>\n",
       "      <td>101.76400</td>\n",
       "    </tr>\n",
       "    <tr>\n",
       "      <th>21</th>\n",
       "      <td>20190626000000</td>\n",
       "      <td>102.87500</td>\n",
       "    </tr>\n",
       "    <tr>\n",
       "      <th>22</th>\n",
       "      <td>20200528000000</td>\n",
       "      <td>104.62900</td>\n",
       "    </tr>\n",
       "    <tr>\n",
       "      <th>23</th>\n",
       "      <td>20210514000000</td>\n",
       "      <td>105.45200</td>\n",
       "    </tr>\n",
       "    <tr>\n",
       "      <th>24</th>\n",
       "      <td>20220722000000</td>\n",
       "      <td>107.33300</td>\n",
       "    </tr>\n",
       "  </tbody>\n",
       "</table>\n",
       "</div>"
      ],
      "text/plain": [
       "        start_date  ex_cum_factor\n",
       "0   19900101000000        1.00000\n",
       "1   19910817000000        1.15749\n",
       "2   19920323000000        1.74700\n",
       "3   19930524000000        3.32715\n",
       "4   19940711000000        5.32344\n",
       "5   19950925000000        6.58838\n",
       "6   19960527000000       13.17680\n",
       "7   19970825000000       19.89110\n",
       "8   19991018000000       20.43190\n",
       "9   20001106000000       22.97620\n",
       "10  20020723000000       23.21630\n",
       "11  20030929000000       23.59530\n",
       "12  20070620000000       25.96290\n",
       "13  20081031000000       33.85210\n",
       "14  20121019000000       34.10450\n",
       "15  20130620000000       55.05370\n",
       "16  20140612000000       66.97410\n",
       "17  20150413000000       81.08150\n",
       "18  20160616000000       98.74490\n",
       "19  20170721000000      100.18800\n",
       "20  20180712000000      101.76400\n",
       "21  20190626000000      102.87500\n",
       "22  20200528000000      104.62900\n",
       "23  20210514000000      105.45200\n",
       "24  20220722000000      107.33300"
      ]
     },
     "execution_count": 15,
     "metadata": {},
     "output_type": "execute_result"
    }
   ],
   "source": [
    "df"
   ]
  },
  {
   "cell_type": "code",
   "execution_count": null,
   "metadata": {},
   "outputs": [],
   "source": []
  }
 ],
 "metadata": {
  "kernelspec": {
   "display_name": "base",
   "language": "python",
   "name": "python3"
  },
  "language_info": {
   "codemirror_mode": {
    "name": "ipython",
    "version": 3
   },
   "file_extension": ".py",
   "mimetype": "text/x-python",
   "name": "python",
   "nbconvert_exporter": "python",
   "pygments_lexer": "ipython3",
   "version": "3.9.13"
  },
  "orig_nbformat": 4,
  "vscode": {
   "interpreter": {
    "hash": "079e87f824df5e6b38a7b88e40dc2ff705d3b55588765c4fa4284c46fb940b2a"
   }
  }
 },
 "nbformat": 4,
 "nbformat_minor": 2
}
